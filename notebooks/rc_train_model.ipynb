{
 "cells": [
  {
   "cell_type": "markdown",
   "id": "920a19ac-b884-4e40-98d0-ca2690ff3c42",
   "metadata": {},
   "source": [
    "# Import packages"
   ]
  },
  {
   "cell_type": "code",
   "execution_count": 2,
   "id": "1d2c097e-869b-435a-9b4d-53159e858123",
   "metadata": {},
   "outputs": [],
   "source": [
    "# import libraries\n",
    "import numpy as np\n",
    "import pandas as pd\n",
    "import random\n",
    "import warnings\n",
    "import joblib\n",
    "import xgboost as xgb\n",
    "import matplotlib.pyplot as plt\n",
    "\n",
    "warnings.filterwarnings(\"ignore\")\n",
    "\n",
    "pd.set_option('display.max_rows', None)\n",
    "pd.set_option('display.max_columns', None)\n",
    "np.set_printoptions(suppress = True)\n",
    "plt.style.use('fivethirtyeight')"
   ]
  },
  {
   "cell_type": "markdown",
   "id": "5fb26d95-3fdd-4e58-aba7-1db6b81a9419",
   "metadata": {},
   "source": [
    "# Import training and validation data"
   ]
  },
  {
   "cell_type": "code",
   "execution_count": null,
   "id": "fb7c9bf3-b58e-467a-a754-2e5d1eaf44a8",
   "metadata": {},
   "outputs": [],
   "source": [
    "# import train and val sets here, split into x and y\n",
    "\n"
   ]
  },
  {
   "cell_type": "markdown",
   "id": "ddba7791-1530-4b8b-bf76-0380b8c3f61e",
   "metadata": {},
   "source": [
    "# Define the classifier"
   ]
  },
  {
   "cell_type": "code",
   "execution_count": null,
   "id": "1e042c3b-c7ad-4a6e-9c04-b087f4aaa9f5",
   "metadata": {},
   "outputs": [],
   "source": [
    "# define the xgb params\n",
    "params = {'objective': 'binary:logistic',\n",
    "          'base_score': 0.5,\n",
    "          'booster': 'gbtree',\n",
    "          'colsample_bylevel': 1,\n",
    "          'colsample_bynode': 1,\n",
    "          'colsample_bytree': 0.8,\n",
    "          'gamma': 0,\n",
    "          'gpu_id': -1,\n",
    "          'interaction_constraints': '',\n",
    "          'importance_type': 'total_gain',\n",
    "          'learning_rate': 0.01,\n",
    "          'max_delta_step': 0,\n",
    "          'max_depth': 30,\n",
    "          'min_child_weight': 3,\n",
    "          'monotone_constraints': '()',\n",
    "          'n_jobs': 56,\n",
    "          'num_parallel_tree': 1,\n",
    "          'predictor': 'auto',\n",
    "          'random_state': 42,\n",
    "          'reg_alpha': 0.01,\n",
    "          'reg_lambda': 0,\n",
    "          'scale_pos_weight': 1,\n",
    "          'subsample': 0.6,\n",
    "          'tree_method': 'exact',\n",
    "          'validate_parameters': 1,\n",
    "          'verbosity': None,\n",
    "          'eval_metric': 'logloss', # maybe 'aucpr' or 'binary:logistic'\n",
    "          'n_estimators': 5000} # was 1000, but up this (with early stopping) to check for improved performance\n",
    "\n",
    "# define the classifier\n",
    "clf = xgb.XGBClassifier(**params)"
   ]
  },
  {
   "cell_type": "markdown",
   "id": "31221078-a47b-433f-89b4-87642f6d19b0",
   "metadata": {},
   "source": [
    "# Train the classifier"
   ]
  },
  {
   "cell_type": "code",
   "execution_count": null,
   "id": "71024aa0-6726-48c0-be4a-f4f11209948a",
   "metadata": {},
   "outputs": [],
   "source": []
  },
  {
   "cell_type": "markdown",
   "id": "62d46e95-a75f-47a8-b9df-5a765a81831a",
   "metadata": {},
   "source": [
    "# Save the classifier"
   ]
  },
  {
   "cell_type": "code",
   "execution_count": null,
   "id": "b5f86dc1-609b-406b-b011-9197f1e81d0f",
   "metadata": {},
   "outputs": [],
   "source": [
    "# save the model using specified naming convention\n",
    "file_location = 'file_path/xgb_classifier_v3.sav'\n",
    "\n",
    "joblib.dump(clf,\n",
    "            file_location)"
   ]
  }
 ],
 "metadata": {
  "kernelspec": {
   "display_name": "Python 3 (ipykernel)",
   "language": "python",
   "name": "python3"
  },
  "language_info": {
   "codemirror_mode": {
    "name": "ipython",
    "version": 3
   },
   "file_extension": ".py",
   "mimetype": "text/x-python",
   "name": "python",
   "nbconvert_exporter": "python",
   "pygments_lexer": "ipython3",
   "version": "3.8.8"
  }
 },
 "nbformat": 4,
 "nbformat_minor": 5
}
