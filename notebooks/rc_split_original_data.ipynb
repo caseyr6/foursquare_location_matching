{
 "cells": [
  {
   "cell_type": "code",
   "execution_count": 10,
   "id": "cfe2b69d-6ec4-4ed5-8759-5000cd1a92dc",
   "metadata": {},
   "outputs": [],
   "source": [
    "import numpy as np\n",
    "import pandas as pd\n",
    "import matplotlib.pyplot as plt\n",
    "import random\n",
    "\n",
    "pd.set_option('display.max_rows', None)\n",
    "pd.set_option('display.max_columns', None)\n",
    "np.set_printoptions(suppress = True)\n",
    "plt.style.use('fivethirtyeight')"
   ]
  },
  {
   "cell_type": "code",
   "execution_count": 42,
   "id": "6d7ab125-18b0-4f0b-874f-121a7e6368d4",
   "metadata": {},
   "outputs": [
    {
     "name": "stdout",
     "output_type": "stream",
     "text": [
      "1.5389933673166012\n",
      "1.5394820218206717\n",
      "1.5406840817870995\n",
      "1.5345955296089084\n"
     ]
    }
   ],
   "source": [
    "# import the file raw data set\n",
    "raw_df = pd.read_csv(r'C:\\Users\\caseyrya\\Dropbox\\foursquare_location_matching_data\\data\\all_raw.csv')\n",
    "\n",
    "# create list of unique places of interest\n",
    "unique_pois = raw_df.point_of_interest.drop_duplicates().tolist()\n",
    "\n",
    "# select a random sample of pois for test set (10% of total), and val set (10% of train set)\n",
    "train_pois = random.sample(unique_pois, int(len(unique_pois)*(9/10)))\n",
    "val_pois = random.sample(train_pois, int(len(train_pois)*(1/9)))\n",
    "\n",
    "# create train_val and test\n",
    "train_df = raw_df[raw_df['point_of_interest'].isin(train_pois)].copy()\n",
    "val_df = raw_df[raw_df['point_of_interest'].isin(val_pois)].copy()\n",
    "test_df = raw_df[(raw_df['point_of_interest'].isin(train_pois) == False) & (raw_df['point_of_interest'].isin(val_pois) == False)].copy()\n",
    "\n",
    "# check total_rows / unique_rows pre and post split (should be roughly the same)\n",
    "raw_ratio = len(raw_df.id.drop_duplicates()) / len(raw_df.point_of_interest.drop_duplicates())\n",
    "train_ratio = len(train_df.id.drop_duplicates()) / len(train_df.point_of_interest.drop_duplicates())\n",
    "val_ratio = len(val_df.id.drop_duplicates()) / len(val_df.point_of_interest.drop_duplicates())                           \n",
    "test_ratio = len(test_df.id.drop_duplicates()) / len(test_df.point_of_interest.drop_duplicates())\n",
    "\n",
    "print(raw_ratio)\n",
    "print(train_ratio)\n",
    "print(val_ratio)\n",
    "print(test_ratio)"
   ]
  },
  {
   "cell_type": "code",
   "execution_count": 49,
   "id": "43759019-4539-43db-9947-8954aae86b31",
   "metadata": {},
   "outputs": [],
   "source": [
    "# write train_val and test sets to data directories\n",
    "\n",
    "train_df.to_csv(r'C:\\Users\\caseyrya\\Dropbox\\foursquare_location_matching_data\\data\\model_training\\train_raw.csv', index=False)\n",
    "val_df.to_csv(r'C:\\Users\\caseyrya\\Dropbox\\foursquare_location_matching_data\\data\\model_training\\val_raw.csv', index=False)\n",
    "test_df.to_csv(r'C:\\Users\\caseyrya\\Dropbox\\foursquare_location_matching_data\\data\\model_testing\\test_raw.csv', index=False)"
   ]
  }
 ],
 "metadata": {
  "kernelspec": {
   "display_name": "Python 3 (ipykernel)",
   "language": "python",
   "name": "python3"
  },
  "language_info": {
   "codemirror_mode": {
    "name": "ipython",
    "version": 3
   },
   "file_extension": ".py",
   "mimetype": "text/x-python",
   "name": "python",
   "nbconvert_exporter": "python",
   "pygments_lexer": "ipython3",
   "version": "3.8.8"
  }
 },
 "nbformat": 4,
 "nbformat_minor": 5
}
