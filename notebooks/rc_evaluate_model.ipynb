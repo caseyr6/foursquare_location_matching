{
 "cells": [
  {
   "cell_type": "markdown",
   "id": "720fb05c-8a86-4081-aac5-8dd7580bdd8f",
   "metadata": {},
   "source": [
    "# Import packages"
   ]
  },
  {
   "cell_type": "code",
   "execution_count": null,
   "id": "555cbef4-0cd6-4dd0-8296-36e627ae5115",
   "metadata": {},
   "outputs": [],
   "source": [
    "import numpy as np\n",
    "import pandas as pd\n",
    "import matplotlib.pyplot as plt\n",
    "from sklearn.model_selection import train_test_split\n",
    "import joblib\n",
    "import xgboost as xgb\n",
    "from sklearn.metrics import accuracy_score, precision_score, recall_score, f1_score, precision_recall_curve, auc, roc_auc_score\n",
    "from matplotlib.pyplot import figure\n",
    "\n",
    "warnings.filterwarnings(\"ignore\")\n",
    "\n",
    "pd.set_option('display.max_rows', None)\n",
    "pd.set_option('display.max_columns', None)\n",
    "np.set_printoptions(suppress = True)\n",
    "plt.style.use('fivethirtyeight')"
   ]
  },
  {
   "cell_type": "markdown",
   "id": "4c38e9b9-117b-4584-b141-36345d7fac45",
   "metadata": {},
   "source": [
    "# Import test data"
   ]
  },
  {
   "cell_type": "code",
   "execution_count": null,
   "id": "db6d1f7c-bf2a-4d1e-84df-774ec71d0f47",
   "metadata": {},
   "outputs": [],
   "source": [
    "test_df = pd.read(r'C:\\Users\\caseyrya\\Dropbox\\foursquare_location_matching_data\\data\\model_testing\\test_raw.csv')"
   ]
  },
  {
   "cell_type": "markdown",
   "id": "3266243c-9eb5-4592-8623-2ddfbac3e451",
   "metadata": {},
   "source": [
    "# Import model"
   ]
  },
  {
   "cell_type": "code",
   "execution_count": null,
   "id": "ffabc65c-9561-4e19-b588-a8e5227c1c8a",
   "metadata": {},
   "outputs": [],
   "source": [
    "# import model\n",
    "model = joblib.load('file_path/model.sav')"
   ]
  },
  {
   "cell_type": "markdown",
   "id": "b5a9170f-4f0c-4531-b59f-ea10a88e29c7",
   "metadata": {},
   "source": [
    "# Generate predictions table"
   ]
  },
  {
   "cell_type": "code",
   "execution_count": null,
   "id": "15fa0369-b58a-4ef7-8b26-f2b4e0dc5c71",
   "metadata": {},
   "outputs": [],
   "source": [
    "# need to iterate through the test pairs and predict 1/0 for match\n",
    "    # probably better to predict the probability, then set our own thresholds\n",
    "    # also include the actual field\n",
    "    \n",
    "# id_1, id_2, actual_match_class, predicted_match_class (based on custom prob thresholds)"
   ]
  },
  {
   "cell_type": "markdown",
   "id": "7e23eb14-116b-492b-a5bf-450fc28d47b2",
   "metadata": {},
   "source": [
    "# Evaluate model performance"
   ]
  },
  {
   "cell_type": "code",
   "execution_count": null,
   "id": "1664ef49-01a5-482f-adae-21f31972307d",
   "metadata": {},
   "outputs": [],
   "source": [
    "# competition specific evaluation criteria    \n",
    "    # from the predictions table, we then generate the submission dataframes\n",
    "    # id, matches_predicted, matches_actual, jaccard_score"
   ]
  },
  {
   "cell_type": "code",
   "execution_count": null,
   "id": "ec749138-efe2-4be6-b853-bafb8dbf6e16",
   "metadata": {},
   "outputs": [],
   "source": [
    "# other classic kpi's\n",
    "    # accuracy\n",
    "    # recall\n",
    "    # precision\n",
    "    # AUC\n",
    "    # etc..."
   ]
  }
 ],
 "metadata": {
  "kernelspec": {
   "display_name": "Python 3 (ipykernel)",
   "language": "python",
   "name": "python3"
  },
  "language_info": {
   "codemirror_mode": {
    "name": "ipython",
    "version": 3
   },
   "file_extension": ".py",
   "mimetype": "text/x-python",
   "name": "python",
   "nbconvert_exporter": "python",
   "pygments_lexer": "ipython3",
   "version": "3.8.8"
  }
 },
 "nbformat": 4,
 "nbformat_minor": 5
}
