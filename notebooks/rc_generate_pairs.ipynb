{
 "cells": [
  {
   "cell_type": "code",
   "execution_count": 1,
   "id": "141f7035-eadc-4c9a-895c-c8df9d256f99",
   "metadata": {},
   "outputs": [],
   "source": [
    "import pandas as pd\n",
    "from sklearn.neighbors import NearestNeighbors\n",
    "from sklearn.preprocessing import StandardScaler\n",
    "\n",
    "pd.set_option('display.max_rows', None)\n",
    "pd.set_option('display.max_columns', None)"
   ]
  },
  {
   "cell_type": "code",
   "execution_count": 2,
   "id": "b835b8be-b6b5-4834-95d5-1d93285fdbe5",
   "metadata": {},
   "outputs": [],
   "source": [
    "def generate_pairs(\n",
    "    df,\n",
    "    n_neighbors = 5,\n",
    "    train = False\n",
    "):\n",
    "    '''\n",
    "    add some documentation here\n",
    "    '''\n",
    "    \n",
    "    orig_df = df.copy()\n",
    "    \n",
    "    # define and scale the location df\n",
    "    location_data = df[['latitude', 'longitude']].values\n",
    "    location_data = StandardScaler().fit_transform(location_data) \n",
    "    \n",
    "    # define and fit the knn\n",
    "    knn = NearestNeighbors(n_neighbors = min(n_neighbors + 1, len(df)), \n",
    "                           algorithm = 'kd_tree',\n",
    "                           n_jobs=-1)\n",
    "    knn.fit(location_data)\n",
    "    \n",
    "    # generate the neighbours array - index of closest n_neighbors + 1 samples to each of the samples in the location data array, including that sample istelf\n",
    "    neighbors_array = knn.kneighbors(location_data,\n",
    "                                     return_distance=False)\n",
    "\n",
    "    # create column dictionaries\n",
    "    cols_1 = dict(zip(orig_df.columns, [f'{col}_1' for col in orig_df.columns]))\n",
    "    cols_2 = dict(zip(orig_df.columns, [f'{col}_2' for col in orig_df.columns]))\n",
    "\n",
    "    # create dataframes needed for final join\n",
    "    df_1 = orig_df\n",
    "    idxs = neighbors_array.flatten()\n",
    "    df_2 = df_1.iloc[idxs].reset_index().rename(columns=cols_2)\n",
    "\n",
    "    # change df_1\n",
    "    df_1['orig_index'] = df_1.index\n",
    "    df_1 = pd.concat(knn.n_neighbors * [df_1],\n",
    "                     ignore_index=True)\n",
    "    df_1 = df_1.reset_index().rename(columns = cols_1)\n",
    "    df_1 = df_1.sort_values(['orig_index', 'index'])\n",
    "    df_1.drop(columns=['orig_index', 'index'],\n",
    "              inplace=True)\n",
    "    df_1.reset_index(drop=True, inplace=True)\n",
    "    \n",
    "    # create final df\n",
    "    df = pd.concat([df_1, df_2],\n",
    "                   axis=1)\n",
    "    df = df.loc[df.id_1 != df.id_2].reset_index(drop=True)\n",
    "    \n",
    "    # add final match column\n",
    "    if train:\n",
    "        df['match'] = df['point_of_interest_1'] == df['point_of_interest_2']\n",
    "        df.drop(columns=['point_of_interest_1', 'point_of_interest_2'], inplace=True)\n",
    "    \n",
    "    return df"
   ]
  },
  {
   "cell_type": "code",
   "execution_count": 3,
   "id": "fbac7ae8-7089-4ebc-924b-52908fc2e78a",
   "metadata": {},
   "outputs": [],
   "source": [
    "train = pd.read_csv(r'C:\\Users\\caseyrya\\Dropbox\\foursquare_location_matching_data\\train.csv')"
   ]
  },
  {
   "cell_type": "code",
   "execution_count": 4,
   "id": "1209026a-7991-4a8f-9283-d419c9756b32",
   "metadata": {},
   "outputs": [
    {
     "data": {
      "text/plain": [
       "(1138812, 13)"
      ]
     },
     "execution_count": 4,
     "metadata": {},
     "output_type": "execute_result"
    }
   ],
   "source": [
    "train.shape"
   ]
  },
  {
   "cell_type": "code",
   "execution_count": 5,
   "id": "88d0f229-1b4e-4e1c-b257-1263b56e8188",
   "metadata": {},
   "outputs": [],
   "source": [
    "test_pairs = generate_pairs(train, 5, train = True)"
   ]
  },
  {
   "cell_type": "code",
   "execution_count": null,
   "id": "1211330c-a90b-412d-832f-ffc2b9535d97",
   "metadata": {},
   "outputs": [],
   "source": [
    "print(test_pairs.shape)\n",
    "test_pairs.head(20)"
   ]
  },
  {
   "cell_type": "code",
   "execution_count": null,
   "id": "1527b4e8-1116-4e40-9eed-6f80ae9f920f",
   "metadata": {},
   "outputs": [],
   "source": [
    "# positive sample portion\n",
    "df[df['match']==True].shape[0] / df.shape[0]"
   ]
  }
 ],
 "metadata": {
  "kernelspec": {
   "display_name": "Python 3 (ipykernel)",
   "language": "python",
   "name": "python3"
  },
  "language_info": {
   "codemirror_mode": {
    "name": "ipython",
    "version": 3
   },
   "file_extension": ".py",
   "mimetype": "text/x-python",
   "name": "python",
   "nbconvert_exporter": "python",
   "pygments_lexer": "ipython3",
   "version": "3.8.8"
  }
 },
 "nbformat": 4,
 "nbformat_minor": 5
}
